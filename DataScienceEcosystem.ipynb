{
 "cells": [
  {
   "cell_type": "markdown",
   "id": "69a0f85a-54b3-4ea9-9728-f7947af231ad",
   "metadata": {},
   "source": [
    "# Data Science Tools and Ecosystem"
   ]
  },
  {
   "cell_type": "markdown",
   "id": "042d3f88-e226-4a17-b49d-2a45e3065130",
   "metadata": {},
   "source": [
    "In this notebook, Data Science Tools and Ecosystem are summarized."
   ]
  },
  {
   "cell_type": "markdown",
   "id": "553689b3-30f3-4b0d-907c-9b96baba58b0",
   "metadata": {},
   "source": [
    "Some of the popular languages that Data Scientists use are:  \n",
    "1. Python\n",
    "1. R\n",
    "1. Scala"
   ]
  },
  {
   "cell_type": "markdown",
   "id": "5a66af8a-43bf-4a2c-926f-2fa55a3055e8",
   "metadata": {},
   "source": [
    "Some of the commonly used libraries used by Data Scientists include:  \n",
    "1. NumPy\n",
    "1. Pandas\n",
    "1. SciPy\n",
    "    "
   ]
  },
  {
   "cell_type": "markdown",
   "id": "cc57dd43-8363-4ccf-afef-0799eed452f2",
   "metadata": {},
   "source": [
    "## Data Science Tools \n",
    "| Tools for Data Science |\n",
    "| --- |\n",
    "| IBM Watson Studio |\n",
    "| IBM SPSS |\n",
    "| Jupyter |\n",
    "| Apache Spark |"
   ]
  },
  {
   "cell_type": "markdown",
   "id": "97c3d781-9c1c-4400-9f7b-344099c2a0e0",
   "metadata": {},
   "source": [
    "### Below are a few examples of evaluating arithmetic expressions in Python"
   ]
  },
  {
   "cell_type": "code",
   "execution_count": 1,
   "id": "56429a19-883e-4446-b6da-399173439908",
   "metadata": {},
   "outputs": [
    {
     "data": {
      "text/plain": [
       "17"
      ]
     },
     "execution_count": 1,
     "metadata": {},
     "output_type": "execute_result"
    }
   ],
   "source": [
    "# This a simple arithmetic expression to mutiply then add integers\n",
    "\n",
    "(3*4)+5"
   ]
  },
  {
   "cell_type": "code",
   "execution_count": 2,
   "id": "747e27fa-b606-47b6-891a-ab314587a34f",
   "metadata": {},
   "outputs": [
    {
     "name": "stdout",
     "output_type": "stream",
     "text": [
      "3.3333333333333335\n"
     ]
    }
   ],
   "source": [
    "# This will convert 200 minutes to hours by diving by 60\n",
    "\n",
    "minutes = 200\n",
    "hours = minutes/60\n",
    "print(hours)"
   ]
  },
  {
   "cell_type": "markdown",
   "id": "ef4a9813-c3a8-48e6-a51e-fa479b938667",
   "metadata": {},
   "source": [
    "**Objectives:**\n",
    "* To understand various data science tools\n",
    "* To implement various operations using this tools.\n",
    "* Learn popular data science languages like Python,R etc"
   ]
  },
  {
   "cell_type": "markdown",
   "id": "99a91465-af2a-467f-9e5c-9a6917e6038d",
   "metadata": {},
   "source": [
    "## Author  \n",
    "Abhishek More"
   ]
  },
  {
   "cell_type": "code",
   "execution_count": null,
   "id": "44837125-c450-430a-b734-e48001f0394e",
   "metadata": {},
   "outputs": [],
   "source": []
  }
 ],
 "metadata": {
  "kernelspec": {
   "display_name": "Python",
   "language": "python",
   "name": "conda-env-python-py"
  },
  "language_info": {
   "codemirror_mode": {
    "name": "ipython",
    "version": 3
   },
   "file_extension": ".py",
   "mimetype": "text/x-python",
   "name": "python",
   "nbconvert_exporter": "python",
   "pygments_lexer": "ipython3",
   "version": "3.7.12"
  }
 },
 "nbformat": 4,
 "nbformat_minor": 5
}
